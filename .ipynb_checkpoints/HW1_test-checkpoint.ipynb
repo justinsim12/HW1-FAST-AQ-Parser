{
 "cells": [
  {
   "cell_type": "code",
   "execution_count": null,
   "id": "3c47f18b",
   "metadata": {},
   "outputs": [
    {
     "ename": "",
     "evalue": "",
     "output_type": "error",
     "traceback": [
      "\u001b[1;31mRunning cells with 'Python 3.12.5' requires the ipykernel package.\n",
      "\u001b[1;31mRun the following command to install 'ipykernel' into the Python environment. \n",
      "\u001b[1;31mCommand: '/opt/homebrew/bin/python3 -m pip install ipykernel -U --user --force-reinstall'"
     ]
    }
   ],
   "source": [
    "%load_ext autoreload\n",
    "%autoreload"
   ]
  },
  {
   "cell_type": "markdown",
   "id": "5be57162",
   "metadata": {},
   "source": [
    "# Parsers"
   ]
  },
  {
   "cell_type": "code",
   "execution_count": null,
   "id": "6a7a1053",
   "metadata": {},
   "outputs": [],
   "source": [
    "from seqparser import FastaParser, FastqParser"
   ]
  },
  {
   "cell_type": "code",
   "execution_count": null,
   "id": "b061a8ae",
   "metadata": {},
   "outputs": [],
   "source": [
    "fasta_file = \"data/test.fa\" # path to fasta file\n",
    "parser_obj = FastaParser(fasta_file) # create parser object\n",
    "for record in parser_obj:\n",
    "    print(record)"
   ]
  },
  {
   "cell_type": "code",
   "execution_count": null,
   "id": "ff940ad5",
   "metadata": {},
   "outputs": [],
   "source": [
    "fastq_file = \"data/test.fq\"\n",
    "parser_obj = FastqParser(fastq_file)\n",
    "for record in parser_obj:\n",
    "    print(record)"
   ]
  },
  {
   "cell_type": "code",
   "execution_count": null,
   "id": "5ccb9cf1",
   "metadata": {},
   "outputs": [],
   "source": []
  },
  {
   "cell_type": "markdown",
   "id": "56193a59",
   "metadata": {},
   "source": [
    "# Transcription"
   ]
  },
  {
   "cell_type": "code",
   "execution_count": 113,
   "id": "ea8100f1",
   "metadata": {},
   "outputs": [],
   "source": [
    "from seqparser import transcribe, reverse_transcribe"
   ]
  },
  {
   "cell_type": "code",
   "execution_count": 114,
   "id": "9a6e395d",
   "metadata": {},
   "outputs": [],
   "source": [
    "seq = 'TGATTGAATCTTTTGAGGGTCACGGCCCGGAAGCCAGAATTTCGGGGTCCTCTGTGGATATTAATCGAGCCCACACGGTGTGAGTTCAGCGGCCCCCGCA'"
   ]
  },
  {
   "cell_type": "code",
   "execution_count": null,
   "id": "ebda95ec",
   "metadata": {},
   "outputs": [],
   "source": [
    "transcribe(seq)"
   ]
  },
  {
   "cell_type": "code",
   "execution_count": null,
   "id": "a1d26d52",
   "metadata": {},
   "outputs": [],
   "source": [
    "reverse_transcribe(seq)"
   ]
  },
  {
   "cell_type": "code",
   "execution_count": 120,
   "id": "079a7dae",
   "metadata": {},
   "outputs": [],
   "source": []
  },
  {
   "cell_type": "markdown",
   "id": "9dd28aa5",
   "metadata": {},
   "source": [
    "# Tests"
   ]
  },
  {
   "cell_type": "markdown",
   "id": "5b87a316",
   "metadata": {},
   "source": [
    "## FastA parser"
   ]
  },
  {
   "cell_type": "code",
   "execution_count": 45,
   "id": "97aee015",
   "metadata": {},
   "outputs": [],
   "source": [
    "# Test FastA parser - correct\n",
    "def test_FastaParser():\n",
    "    \"\"\"\n",
    "    Write your unit test for your FastaParser\n",
    "    class here. You should generate an instance of\n",
    "    your FastaParser class and assert that it properly\n",
    "    reads in the example Fasta File.\n",
    "    \"\"\"\n",
    "    # Read in fasta file \n",
    "    fasta_file = 'data/test.fa'\n",
    "    parser_obj = FastaParser(fasta_file)\n",
    "    file_lines = [record for record in parser_obj]\n",
    "\n",
    "    # known seq0 of fasta file\n",
    "    seq0 = 'TGATTGAATCTTTTGAGGGTCACGGCCCGGAAGCCAGAATTTCGGGGTCCTCTGTGGATATTAATCGAGCCCACACGGTGTGAGTTCAGCGGCCCCCGCA'\n",
    "    assert file_lines[0][1] == seq0, \"Something is wrong - panic!\"\n",
    "    \n",
    "test_FastaParser()"
   ]
  },
  {
   "cell_type": "code",
   "execution_count": null,
   "id": "13c1d7c1",
   "metadata": {},
   "outputs": [],
   "source": [
    "# Test FastA parser - w/ error\n",
    "# remove first bp for seq0\n",
    "def test_FastaParser():\n",
    "    \"\"\"\n",
    "    Write your unit test for your FastaParser\n",
    "    class here. You should generate an instance of\n",
    "    your FastaParser class and assert that it properly\n",
    "    reads in the example Fasta File.\n",
    "    \"\"\"\n",
    "    # Read in fasta file \n",
    "    fasta_file = 'data/test.fa'\n",
    "    parser_obj = FastaParser(fasta_file)\n",
    "    file_lines = [record for record in parser_obj]\n",
    "\n",
    "    # known seq0 of fasta file\n",
    "    seq0 = 'GATTGAATCTTTTGAGGGTCACGGCCCGGAAGCCAGAATTTCGGGGTCCTCTGTGGATATTAATCGAGCCCACACGGTGTGAGTTCAGCGGCCCCCGCA'\n",
    "    assert file_lines[0][1] == seq0, \"Something is wrong - panic!\"\n",
    "    \n",
    "test_FastaParser()"
   ]
  },
  {
   "cell_type": "markdown",
   "id": "6403a2c6",
   "metadata": {},
   "source": [
    "## FastQ parser"
   ]
  },
  {
   "cell_type": "code",
   "execution_count": null,
   "id": "1a59aa29",
   "metadata": {},
   "outputs": [],
   "source": [
    "file_lines[0][0] != None"
   ]
  },
  {
   "cell_type": "code",
   "execution_count": 48,
   "id": "a8ccf25b",
   "metadata": {},
   "outputs": [],
   "source": [
    "# Correct FastQ parser\n",
    "def test_FastqParser():\n",
    "    \"\"\"\n",
    "    Write your unit test for your FastqParser\n",
    "    class here. You should generate an instance of\n",
    "    your FastqParser class and assert that it properly\n",
    "    reads in the example Fastq File.\n",
    "    \"\"\"\n",
    "    # Read in fastq file\n",
    "    fastq_file = 'data/test.fq'\n",
    "    parser_obj = FastqParser(fastq_file)\n",
    "    file_lines = [record for record in parser_obj]\n",
    "\n",
    "    # Known seq0 of fastq file\n",
    "    seq0 = 'TGTGGTCGTATAGTTATTGTCATAAATTACACAGAATCGCGATTCTCCGCGTCCACCAATCTTAGTGCACCACAGCATCGACCCGATTTATGACGCTGAG'\n",
    "    # Known quality of seq0\n",
    "    qual0 = '*540($=*,=.062565,2>\\'487\\')!:&&6=,6,*7>:&132&83*8(58&59>\\'8!;28<94,0*;*.94**:9+7\"94(>7=\\'(!5\"2/!%\"4#32='\n",
    "\n",
    "    # Check both sequence and quality\n",
    "    check_val = False\n",
    "    if ((file_lines[0][1] == seq0) and (file_lines[0][2] == qual0)):\n",
    "        check_val = True\n",
    "    \n",
    "    assert check_val, \"FastQ parser error\"\n",
    "    \n",
    "test_FastqParser()"
   ]
  },
  {
   "cell_type": "code",
   "execution_count": null,
   "id": "f049e953",
   "metadata": {},
   "outputs": [],
   "source": [
    "# FastQ parser w/ error\n",
    "def test_FastqParser():\n",
    "    \"\"\"\n",
    "    Write your unit test for your FastqParser\n",
    "    class here. You should generate an instance of\n",
    "    your FastqParser class and assert that it properly\n",
    "    reads in the example Fastq File.\n",
    "    \"\"\"\n",
    "    # Read in fastq file\n",
    "    fastq_file = 'data/test.fq'\n",
    "    parser_obj = FastqParser(fastq_file)\n",
    "    file_lines = [record for record in parser_obj]\n",
    "\n",
    "    # Known seq0 of fastq file\n",
    "    seq0 = 'TTGGTCGTATAGTTATTGTCATAAATTACACAGAATCGCGATTCTCCGCGTCCACCAATCTTAGTGCACCACAGCATCGACCCGATTTATGACGCTGAG'\n",
    "    # Known quality of seq0\n",
    "    qual0 = '*540($=*,=.062565,2>\\'487\\')!:&&6=,6,*7>:&132&83*8(58&59>\\'8!;28<94,0*;*.94**:9+7\"94(>7=\\'(!5\"2/!%\"4#32='\n",
    "\n",
    "    # Check both sequence and quality\n",
    "    check_val = False\n",
    "    if ((file_lines[0][1] == seq0) and (file_lines[0][2] == qual0)):\n",
    "        check_val = True\n",
    "    \n",
    "    assert check_val, \"FastQ parser error\"\n",
    "    \n",
    "test_FastqParser()"
   ]
  },
  {
   "cell_type": "markdown",
   "id": "43d30d52",
   "metadata": {},
   "source": [
    "## Test FastA format"
   ]
  },
  {
   "cell_type": "code",
   "execution_count": 50,
   "id": "44d02fb6",
   "metadata": {},
   "outputs": [],
   "source": [
    "# Correct fasta format\n",
    "def test_FastaFormat():\n",
    "    \"\"\"\n",
    "    Test to make sure that a fasta file is being read in\n",
    "    If a fastq file is read, the first item is None\n",
    "    \"\"\"\n",
    "    # Read in fasta file\n",
    "    fasta_file = 'data/test.fa' # if this was a fastq file, an AssertionError is raised\n",
    "    parser_obj = FastaParser(fasta_file)\n",
    "    file_lines = [record for record in parser_obj]\n",
    "\n",
    "    assert file_lines[0][0] != None, \"Ensure file is a FastA file.\"\n",
    "    \n",
    "test_FastAFormat()"
   ]
  },
  {
   "cell_type": "code",
   "execution_count": null,
   "id": "0e7cbe08",
   "metadata": {},
   "outputs": [],
   "source": [
    "# reading in fastq file\n",
    "def test_FastaFormat():\n",
    "    \"\"\"\n",
    "    Test to make sure that a fasta file is being read in\n",
    "    If a fastq file is read, the first item is None\n",
    "    \"\"\"\n",
    "    # Read in fasta file\n",
    "    fasta_file = 'data/test.fq' # if this was a fastq file, an AssertionError is raised\n",
    "    parser_obj = FastaParser(fasta_file)\n",
    "    file_lines = [record for record in parser_obj]\n",
    "\n",
    "    assert file_lines[0][0] != None, \"Ensure file is a FastA file.\"\n",
    "    \n",
    "test_FastAFormat()"
   ]
  }
 ],
 "metadata": {
  "kernelspec": {
   "display_name": "Python 3 (ipykernel)",
   "language": "python",
   "name": "python3"
  },
  "language_info": {
   "codemirror_mode": {
    "name": "ipython",
    "version": 3
   },
   "file_extension": ".py",
   "mimetype": "text/x-python",
   "name": "python",
   "nbconvert_exporter": "python",
   "pygments_lexer": "ipython3",
   "version": "3.12.5"
  }
 },
 "nbformat": 4,
 "nbformat_minor": 5
}
